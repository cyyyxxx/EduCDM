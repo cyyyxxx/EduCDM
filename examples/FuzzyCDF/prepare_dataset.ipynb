{
 "cells": [
  {
   "cell_type": "code",
   "execution_count": null,
   "metadata": {},
   "outputs": [],
   "source": [
    "# Download the Cognitive Diagnosis Benchmark Datasets (CDBD)\n",
    "from EduData import get_data\n",
    "\n",
    "get_data(\"math2015\", \"../../data\")"
   ]
  },
  {
   "cell_type": "code",
   "execution_count": 1,
   "metadata": {},
   "outputs": [
    {
     "name": "stdout",
     "output_type": "stream",
     "text": [
      "{'user_id': 0, 'item_id': 7, 'score': 1.0} {'user_id': 0, 'item_id': 9, 'score': 1.0}\n"
     ]
    }
   ],
   "source": [
    "# Data preprocessing, split train/valid/test data\n",
    "\n",
    "import json\n",
    "import numpy as np\n",
    "import random\n",
    "\n",
    "def read_probdesc(filepath):\n",
    "    prob_type = np.loadtxt(filepath, dtype=int, delimiter='\\t',\n",
    "                           converters={0: lambda x: int(x) - 1, 1: lambda s: s == b'Obj'}, skiprows=1)\n",
    "    obj_prob_index, sub_prob_index = prob_type[prob_type[:, 1] == 1][:, 0], prob_type[prob_type[:, 1] == 0][:, 0]\n",
    "    return prob_type, obj_prob_index, sub_prob_index\n",
    "\n",
    "train_ratio = 0.8\n",
    "valid_ratio = 0\n",
    "\n",
    "# type of problems\n",
    "problems, obj_prob_index, sub_prob_index = read_probdesc(\"../../data/math2015/Math1/problemdesc.txt\")\n",
    "np.savetxt(\"../../data/math2015/Math1/obj_prob_index.csv\", obj_prob_index, delimiter=',', fmt='%d')\n",
    "np.savetxt(\"../../data/math2015/Math1/sub_prob_index.csv\", sub_prob_index, delimiter=',', fmt='%d')\n",
    "\n",
    "# Q matrix\n",
    "np.savetxt(\"../../data/math2015/Math1/q_m.csv\", np.loadtxt(\"../../data/math2015/Math1/q.txt\", dtype=int), delimiter=',', fmt='%d')\n",
    "\n",
    "# response matrix, split dataset\n",
    "R = np.loadtxt(\"../../data/math2015/Math1/data.txt\")\n",
    "stu_num, prob_num = R.shape[0], R.shape[1]\n",
    "train_logs, valid_logs, test_logs = [], [], []\n",
    "for stu in range(stu_num):\n",
    "    stu_logs = []\n",
    "    for prob in range(prob_num):\n",
    "        log = {'user_id': int(stu), 'item_id': int(prob), 'score': R[stu][prob]}\n",
    "        stu_logs.append(log)\n",
    "    random.shuffle(stu_logs)\n",
    "    train_logs += stu_logs[: int(train_ratio * prob_num)]\n",
    "    valid_logs += stu_logs[int(train_ratio * prob_num): int(train_ratio * prob_num) + int(valid_ratio * prob_num)]\n",
    "    test_logs += stu_logs[int(train_ratio * prob_num) + int(valid_ratio * prob_num):]\n",
    "\n",
    "with open(\"../../data/math2015/Math1/train_data.json\", 'w', encoding='utf8') as file:\n",
    "    json.dump(train_logs, file, indent=4, ensure_ascii=False)\n",
    "with open(\"../../data/math2015/Math1/valid_data.json\", 'w', encoding='utf8') as file:\n",
    "    json.dump(valid_logs, file, indent=4, ensure_ascii=False)\n",
    "with open(\"../../data/math2015/Math1/test_data.json\", 'w', encoding='utf8') as file:\n",
    "    json.dump(test_logs, file, indent=4, ensure_ascii=False)\n",
    "\n",
    "print(train_logs[0], test_logs[0])"
   ]
  },
  {
   "cell_type": "code",
   "execution_count": null,
   "metadata": {},
   "outputs": [],
   "source": []
  }
 ],
 "metadata": {
  "kernelspec": {
   "display_name": "Python 3",
   "language": "python",
   "name": "python3"
  },
  "language_info": {
   "codemirror_mode": {
    "name": "ipython",
    "version": 3
   },
   "file_extension": ".py",
   "mimetype": "text/x-python",
   "name": "python",
   "nbconvert_exporter": "python",
   "pygments_lexer": "ipython3",
   "version": "3.7.3"
  }
 },
 "nbformat": 4,
 "nbformat_minor": 1
}
